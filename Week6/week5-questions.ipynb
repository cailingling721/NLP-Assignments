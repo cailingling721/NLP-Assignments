{
 "cells": [
  {
   "cell_type": "markdown",
   "metadata": {},
   "source": [
    "### 1. Summary the reasons of overfitting and underfitting"
   ]
  },
  {
   "cell_type": "raw",
   "metadata": {},
   "source": [
    "\n",
    "* 过拟合：在训练数据集上训练的时候，预测准确率就一直很低。\n",
    "* 欠拟合：在训练数据集上的效果很好，但是一旦用到新的数据集上预测效果就差。\n",
    "* 欠拟合的原因：模型过于简单了。\n",
    "* 过拟合的原因：\n",
    "\t* 数据量太少\n",
    "\t* 模型复杂度过高\n",
    "\t* 数据采样的偏差，不够均匀。"
   ]
  },
  {
   "cell_type": "markdown",
   "metadata": {},
   "source": [
    "### 2. Write down 3 sceneries that machine learning has been used now."
   ]
  },
  {
   "cell_type": "raw",
   "metadata": {},
   "source": [
    "* 推荐系统，例如淘宝上推荐商品。\n",
    "* 火车站人脸识别入站。\n",
    "* 机器人客服，例如海底捞的机器人客服，以及淘宝上的机器人客服。\n",
    "* 儿童玩具，例如火火兔，可以对话。"
   ]
  },
  {
   "cell_type": "markdown",
   "metadata": {},
   "source": [
    "### 3. Come out with 3 sceneries with which machine learning may be applied"
   ]
  },
  {
   "cell_type": "raw",
   "metadata": {},
   "source": [
    "* 生活服务机器人，可以帮忙做各种各样的家务以及各种危险性工作\n",
    "* 个人助理\n",
    "* 辅助决策"
   ]
  }
 ],
 "metadata": {
  "kernelspec": {
   "display_name": "Python 3",
   "language": "python",
   "name": "python3"
  },
  "language_info": {
   "codemirror_mode": {
    "name": "ipython",
    "version": 3
   },
   "file_extension": ".py",
   "mimetype": "text/x-python",
   "name": "python",
   "nbconvert_exporter": "python",
   "pygments_lexer": "ipython3",
   "version": "3.7.3"
  }
 },
 "nbformat": 4,
 "nbformat_minor": 2
}
